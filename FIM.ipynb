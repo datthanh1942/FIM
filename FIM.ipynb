{
 "cells": [
  {
   "cell_type": "markdown",
   "id": "26316492",
   "metadata": {},
   "source": [
    "# Lab 2 - Frequent Itemset Mining\n",
    "\n",
    "- Bài tập rèn luyện về khả năng lập trình thuật toán khai thách mẫu phổ biến (Frequent Itemset Mining)\n",
    "\n",
    "- **Trong bài tập này, sinh viên không được phép dùng các thư viện hỗ trợ cài đặt thuật toán FIM như sklearn, mlxtend, ...**\n",
    "\n",
    "\n",
    "## Thông tin cá nhân \n",
    "- Họ và tên: Đỗ Đạt Thành\n",
    "- Mã số sinh viên: 20127411"
   ]
  },
  {
   "cell_type": "markdown",
   "id": "e4acadda",
   "metadata": {},
   "source": [
    "&#127802; Sinh viên lưu ý mình sẽ dùng chương trình hỗ trợ chấm bài nên bạn cần phải tuân thủ chính xác qui định mà mình đặt ra, nếu không rõ thì hỏi, chứ không nên tự tiện làm theo ý của cá nhân.\n",
    "\n",
    "## Cách làm bài\n",
    "\n",
    "**Bạn sẽ làm trực tiếp trên file Python notebook này (jupyter notebook - sinh viên không được dùng Google Colab).**\n",
    "\n",
    "Đầu tiên, bạn điền họ tên và MSSV vào phần đầu file ở bên trên. Trong file, bạn làm bài ở những chỗ có ghi là:\n",
    "\n",
    "```python\n",
    "# YOUR CODE HERE\n",
    "raise NotImplementedError()\n",
    "```\n",
    "hoặc đối với những phần code không bắt buộc thì là:\n",
    "```python\n",
    "# YOUR CODE HERE (OPTION)\n",
    "```\n",
    "\n",
    "Tất nhiên, khi làm thì bạn xóa dòng `raise NotImplementedError()` đi.\n",
    "Đối những phần yêu cầu code thì thường ở ngay phía dưới sẽ có một (hoặc một số) cell chứa các bộ test để giúp bạn biết đã code đúng hay chưa; nếu chạy cell này không có lỗi gì thì có nghĩa là qua được các bộ test. Trong một số trường hợp, các bộ test có thể sẽ không đầy đủ; nghĩa là, nếu không qua được test thì là code sai, nhưng nếu qua được test thì chưa chắc đã đúng hoàn toàn.\n",
    "\n",
    "Trong khi làm bài, bạn có thể cho in ra màn hình, tạo thêm các cell để test. Nhưng khi nộp bài thì bạn xóa các cell mà bạn tự tạo, xóa hoặc comment các câu lệnh in ra màn hình. Bạn lưu ý <font color=red>không được tự tiện xóa các cell hay sửa code của Thầy</font> (trừ những chỗ được phép sửa như đã nói ở trên).\n",
    "\n",
    "\n",
    "Trong khi làm bài, thường xuyên `Ctrl + S` để lưu lại bài làm của bạn, tránh mất mát thông tin.\n",
    "\n",
    "Bạn có thể thảo luận ý tưởng với bạn khác hoặc từ các nguồn khác, nhưng code và bài làm phải là của bạn, dựa trên sự hiểu thật sự của bạn. Nếu vi phạm thì sẽ bị 0 điểm cho toàn bộ môn học.\n",
    "\n",
    "## Cách nộp bài\n",
    "\n",
    "Khi chấm bài, đầu tiên mình sẽ chọn `Kernel` - `Restart & Run All` để restart và chạy tất cả các cell trong notebook của bạn; do đó, trước khi nộp bài, bạn nên chạy thử `Kernel` - `Restart & Run All` để đảm bảo mọi chuyện diễn ra đúng như mong đợi.\n",
    "\n",
    "Sau đó, bạn tạo thư mục nộp bài theo cấu trúc sau:\n",
    "- Thư mục `MSSV` (vd, nếu bạn có MSSV là 123 thì bạn đặt tên thư mục là `123`)\n",
    "    - File `FIM - SV.ipynb`\n",
    "- Các bạn nén lại MSSV.zip (*.zip chứ không phải .rar hay gì khác)\n",
    "\n",
    "Cuối cùng, bạn nén thư mục `MSSV` này lại và nộp ở link trên moodle. <font color=red>Bạn lưu ý tuân thủ chính xác qui định nộp bài.</font>"
   ]
  },
  {
   "cell_type": "code",
   "execution_count": 1,
   "id": "9041b370",
   "metadata": {},
   "outputs": [],
   "source": [
    "import os\n",
    "import numpy as np\n",
    "import csv\n",
    "# YOUR CODE HERE (OPTION)"
   ]
  },
  {
   "cell_type": "markdown",
   "id": "5e8edb60",
   "metadata": {},
   "source": [
    "- Trong bài tập này, nhiệm vụ của chúng ta là khai thác các tập phổ biến (Frequent Itemset Mining).\n",
    "- Bộ dữ liệu chúng ta dùng sẽ là dữ liệu mua hàng trong một siêu thị."
   ]
  },
  {
   "cell_type": "markdown",
   "id": "66ddc1fc",
   "metadata": {},
   "source": [
    "# 1. Đọc và khám phá dữ liệu"
   ]
  },
  {
   "cell_type": "markdown",
   "id": "18f84a69",
   "metadata": {},
   "source": [
    "## a. Đọc dữ liệu\n",
    "\n",
    "- Đầu tiên, ta sẽ đọc dữ liệu và lưu vào một `python list` 2D có tên là `list_transactions`. Dữ liệu nằm trong file `groceries.csv`\n",
    "- Ví dụ\"\n",
    "`list_transactions` = [\n",
    "                    ['milk', 'coffee'],\n",
    "                    ['vegetable', 'candy', 'tomato']\n",
    "                    ...\n",
    "                 ]\n",
    "                 \n",
    "### Lưu ý:\n",
    "- Trong bài tập này, ta sẽ xem transaction_id là thứ tự của transaction đó trong `list_transactions`.\n",
    "- Đối với phần tử trong `list_transactions`, ta cần gọi hàm sorted() của Python. Hành động này để đảm bảo mọi phần tử được sắp xếp theo một thứ tự.\n",
    "    + Ví dụ: `list_transactions[i] = sorted(list_transactions[i])`"
   ]
  },
  {
   "cell_type": "code",
   "execution_count": 2,
   "id": "1640c7ab",
   "metadata": {},
   "outputs": [],
   "source": [
    "list_transactions = None\n",
    "\n",
    "# YOUR CODE HERE\n",
    "temp = []\n",
    "with open('groceries.csv') as f:\n",
    "    reader = csv.reader(f)\n",
    "    for row in reader:\n",
    "        temp.append(row)\n",
    "for i in range(len(temp)):\n",
    "    temp[i] = sorted(temp[i])\n",
    "list_transactions = temp\n",
    "# raise NotImplementedError()"
   ]
  },
  {
   "cell_type": "code",
   "execution_count": 3,
   "id": "6652a7e8",
   "metadata": {},
   "outputs": [],
   "source": [
    "# TEST\n",
    "assert len(list_transactions) == 9835\n",
    "assert list_transactions[0] == ['citrus fruit', 'margarine', 'ready soups', 'semi-finished bread']\n",
    "assert list_transactions[-1] == ['chicken', 'other vegetables', 'shopping bags', 'tropical fruit', 'vinegar']"
   ]
  },
  {
   "cell_type": "markdown",
   "id": "861fb374",
   "metadata": {},
   "source": [
    "## b. Khám phá dữ liệu\n",
    "\n",
    "- Tiếp theo, ta sẽ tìm tất cả item trong dữ liệu. Kết quả sẽ được lưu vào `1D python list` có tên là `list_items`.\n",
    "- Ví dụ: `list_items` = ['milk', 'coffee', ...]\n",
    "- **Lưu ý**: để dữ liệu của mình và các bạn giống nhau, sau khi xử lý xong `list_items`, các bạn gọi hàm `sorted()` của Python. \n",
    "Ví dụ: `list_items = sorted(list_items)`"
   ]
  },
  {
   "cell_type": "code",
   "execution_count": 4,
   "id": "b77ce834",
   "metadata": {},
   "outputs": [],
   "source": [
    "list_items = None\n",
    "\n",
    "# YOUR CODE HERE\n",
    "temp = []\n",
    "check_items = {}\n",
    "\n",
    "for row in list_transactions:\n",
    "    for key in row:\n",
    "        if key not in check_items.keys():\n",
    "            check_items[key] = 0\n",
    "            temp.append(key)\n",
    "        else:\n",
    "            check_items[key] += 1\n",
    "\n",
    "list_items = sorted(temp)\n",
    "\n",
    "# raise NotImplementedError()"
   ]
  },
  {
   "cell_type": "code",
   "execution_count": 5,
   "id": "585351b5",
   "metadata": {},
   "outputs": [],
   "source": [
    "# TEST\n",
    "assert list_items == sorted(list((set(list_items))))\n",
    "assert len(list_items) == 169"
   ]
  },
  {
   "cell_type": "markdown",
   "id": "07389c7c",
   "metadata": {},
   "source": [
    "# 2. Khái niệm cơ bản - khai thác mẫu phổ biển (Frequent itemset mining)\n",
    "\n",
    "- Trong phần này, chúng ta sẽ tính một số khái niệm cơ bản trong khai thác mẫu phổ biến gồm:\n",
    "    + Itemset_Cover(X): tập hợp các transaction chứa X.\n",
    "    + Absolute_Support(X): số lượng các transaction chứa X.\n",
    "    + Relative_Support(X): tỷ lệ transaction chứa X.\n",
    "    + Frequent_itemset(X): itemset X là frequent (phổ biến) nếu Frequent_itemset(X) $\\geq$ min_sup "
   ]
  },
  {
   "cell_type": "markdown",
   "id": "6957d87f",
   "metadata": {},
   "source": [
    "## a. Itemset Cover\n",
    "\n",
    "- Itemset_Cover(X): tập hợp các transaction chứa X.\n",
    "\n",
    "- Nhiệm vụ của sinh viên: hoàn thành hàm `Find_Itemset_Cover(X, list_transactions)` bên dưới"
   ]
  },
  {
   "cell_type": "code",
   "execution_count": 6,
   "id": "25163e9c",
   "metadata": {},
   "outputs": [],
   "source": [
    "def Find_Itemset_Cover(X, list_transactions):\n",
    "    \"\"\"\n",
    "    Function find the set of transaction containing X.\n",
    "    \n",
    "    * Parameter:\n",
    "    X -- a 1D python list, indicate an itemset. For example ['milk', 'coffee', ...]\n",
    "    list_transactions - a 2D python list, indicate the list of transactions\n",
    "    \n",
    "    * Return:\n",
    "    list_transaction_cover -- a python list, indicate the list of transaction_id containing X. \n",
    "                                For example: [1, 2, 100, ...]\n",
    "    \"\"\"\n",
    "    list_transaction_cover = None\n",
    "    \n",
    "    # YOUR CODE HERE\n",
    "    res = []\n",
    "    check_count = {}\n",
    "    \n",
    "    for row in list_transactions:\n",
    "        temp = []\n",
    "        for element in row:\n",
    "            temp.append(element)\n",
    "        res.append(temp)\n",
    "\n",
    "    temp = []\n",
    "    transactions_id = 0\n",
    "    for row in res:\n",
    "        count = 0\n",
    "        for key in X:\n",
    "            for element in row:\n",
    "                if key == element:\n",
    "                    count += 1\n",
    "                    break\n",
    "        if count == len(X):\n",
    "            temp.append(transactions_id)\n",
    "        transactions_id += 1\n",
    "            \n",
    "    list_transaction_cover = temp\n",
    "    \n",
    "#     raise NotImplementedError()\n",
    "    \n",
    "    return list_transaction_cover"
   ]
  },
  {
   "cell_type": "code",
   "execution_count": 7,
   "id": "7a652627",
   "metadata": {},
   "outputs": [],
   "source": [
    "# TEST\n",
    "\n",
    "# ----- Test case 1 -----\n",
    "X = ['sausage', 'whole milk', 'yogurt', 'coffee']\n",
    "list_transaction_cover = Find_Itemset_Cover(X, list_transactions)\n",
    "assert list_transaction_cover == [103, 1252, 2121, 3294, 3500, 4430, 4454, 6617, 6710, 8367, 8813]\n",
    "\n",
    "# ----- Test case 2 -----\n",
    "X = ['onions', 'domestic eggs', 'soda', 'hygiene articles']\n",
    "list_transaction_cover = Find_Itemset_Cover(X, list_transactions)\n",
    "assert list_transaction_cover == [267, 1000]"
   ]
  },
  {
   "cell_type": "markdown",
   "id": "f82b8040",
   "metadata": {},
   "source": [
    "## b. Absolute support\n",
    "\n",
    "- Absolute_Support(X): số lượng các transaction chứa X.\n",
    "- Nhiệm vụ của sinh viên, hoàn thành hàm `Cal_Absolute_Support(X, list_transactions)` bên dưới."
   ]
  },
  {
   "cell_type": "code",
   "execution_count": 8,
   "id": "1ab32a14",
   "metadata": {},
   "outputs": [],
   "source": [
    "def Cal_Absolute_Support(X, list_transactions):\n",
    "    \"\"\"\n",
    "    Function calculate absolute support of itemset X.\n",
    "    \n",
    "    * Parameter:\n",
    "    X -- a 1D python list, indicate an itemset. For example ['milk', 'coffee', ...]\n",
    "    list_transactions - a 2D python list, indicate the list of transactions\n",
    "    \n",
    "    * Return:\n",
    "    abs_support -- an integer, indicate the number of transactions containing X\n",
    "    \"\"\"\n",
    "    \n",
    "    abs_support = None\n",
    "    \n",
    "    # YOUR CODE HERE\n",
    "    list_transaction_cover = Find_Itemset_Cover(X, list_transactions)\n",
    "    abs_support = len(list_transaction_cover)\n",
    "#     raise NotImplementedError()\n",
    "    \n",
    "    return abs_support"
   ]
  },
  {
   "cell_type": "code",
   "execution_count": 9,
   "id": "3d862592",
   "metadata": {},
   "outputs": [],
   "source": [
    "# TEST\n",
    "\n",
    "# ----- Test case 1 -----\n",
    "X = ['sausage', 'whole milk', 'yogurt', 'coffee']\n",
    "abs_support = Cal_Absolute_Support(X, list_transactions)\n",
    "assert abs_support == 11\n",
    "\n",
    "# ----- Test case 2 -----\n",
    "X = ['onions', 'domestic eggs', 'soda', 'hygiene articles']\n",
    "abs_support = Cal_Absolute_Support(X, list_transactions)\n",
    "assert abs_support == 2"
   ]
  },
  {
   "cell_type": "markdown",
   "id": "bc27f8ad",
   "metadata": {},
   "source": [
    "## c. Relative_Support\n",
    "\n",
    "- Relative_Support(X): tỷ lệ transaction chứa X.\n",
    "\n",
    "- Equation:\n",
    "$$ Relative = \\frac{Absolute}{|transaction|}$$\n",
    "\n",
    "\n",
    "- Nhiệm vụ của sinh viên: hoàn thành hàm `Cal_Relative_Support(X, list_transactions)` bên dưới.\n",
    "- **Lưu ý**: kết quả làm tròn 4 chữ số thập phân, dùng hàm `round(x, 4)` của Python"
   ]
  },
  {
   "cell_type": "code",
   "execution_count": 10,
   "id": "2fa6e109",
   "metadata": {},
   "outputs": [],
   "source": [
    "def Cal_Relative_Support(X, list_transactions):\n",
    "    \"\"\"\n",
    "    Function calculate absolute support of itemset X.\n",
    "    \n",
    "    * Parameter:\n",
    "    X -- a 1D python list, indicate an itemset. For example ['milk', 'coffee', ...]\n",
    "    list_transactions - a 2D python list, indicate the list of transactions\n",
    "    \n",
    "    * Return:\n",
    "    relative_support -- a float, indicate the probability of transactions containing X\n",
    "    \"\"\"\n",
    "    \n",
    "    relative_support = None\n",
    "    \n",
    "    # YOUR CODE HERE\n",
    "    temp = 0.0\n",
    "    cal_abs = Cal_Absolute_Support(X, list_transactions)\n",
    "    cal_trans = len(list_transactions)\n",
    "    temp = cal_abs / cal_trans\n",
    "    relative_support = round(temp,4)\n",
    "    \n",
    "#     raise NotImplementedError()\n",
    "    \n",
    "    return relative_support"
   ]
  },
  {
   "cell_type": "code",
   "execution_count": 11,
   "id": "43337173",
   "metadata": {},
   "outputs": [],
   "source": [
    "# TEST\n",
    "\n",
    "# ----- Test case 1 -----\n",
    "X = ['sausage', 'whole milk', 'yogurt', 'coffee']\n",
    "relative_support = Cal_Relative_Support(X, list_transactions)\n",
    "assert relative_support == 0.0011\n",
    "\n",
    "# ----- Test case 2 -----\n",
    "X = ['onions', 'domestic eggs', 'soda', 'hygiene articles']\n",
    "relative_support = Cal_Relative_Support(X, list_transactions)\n",
    "assert relative_support == 0.0002\n",
    "\n",
    "# ----- Test case 3 -----\n",
    "X = ['bottled water']\n",
    "relative_support = Cal_Relative_Support(X, list_transactions)\n",
    "assert relative_support == 0.1105"
   ]
  },
  {
   "cell_type": "markdown",
   "id": "d0b0b362",
   "metadata": {},
   "source": [
    "## d. Frequent_itemset(X): \n",
    "- Gọi itemset X là frequent (phổ biến) nếu Frequent_itemset(X) $\\geq$ min_sup \n",
    "- Nhiệm vụ của sinh viên, hoàn thành hàm `Check_Frequent_Itemset(X, list_transactions)` bên dưới."
   ]
  },
  {
   "cell_type": "code",
   "execution_count": 12,
   "id": "1a00c315",
   "metadata": {},
   "outputs": [],
   "source": [
    "def Check_Frequent_Itemset(X, list_transactions, min_sup):\n",
    "    \"\"\"\n",
    "    Function check the itemset X is a frequent of not\n",
    "    \n",
    "    * Parameter:\n",
    "    X -- a 1D python list, indicate an itemset. For example ['milk', 'coffee', ...]\n",
    "    list_transactions -- a 2D python list, indicate the list of transactions\n",
    "    min_support -- a float, indicate the minimum support value\n",
    "    \n",
    "    * Return:\n",
    "    is_frequent -- a boolean value. True if X is frequent. False otherwise.\n",
    "    \"\"\"\n",
    "    \n",
    "    is_frequent = None\n",
    "    \n",
    "    # YOUR CODE HERE\n",
    "    relative_support = Cal_Relative_Support(X, list_transactions)\n",
    "    if relative_support >= min_sup:\n",
    "        is_frequent = True\n",
    "    else:\n",
    "        is_frequent = False\n",
    "#     raise NotImplementedError()\n",
    "    \n",
    "    return is_frequent"
   ]
  },
  {
   "cell_type": "code",
   "execution_count": 13,
   "id": "12e9f37f",
   "metadata": {},
   "outputs": [],
   "source": [
    "# TEST\n",
    "\n",
    "# ----- Test case 1 -----\n",
    "X = ['whole milk']\n",
    "min_sup = 0.15\n",
    "is_frequent = Check_Frequent_Itemset(X, list_transactions, min_sup)\n",
    "assert is_frequent == True\n",
    "\n",
    "# ----- Test case 1 -----\n",
    "X = ['soda']\n",
    "min_sup = 0.15\n",
    "is_frequent = Check_Frequent_Itemset(X, list_transactions, min_sup)\n",
    "assert is_frequent == True"
   ]
  },
  {
   "cell_type": "markdown",
   "id": "3d065d84",
   "metadata": {},
   "source": [
    "## e. Một số khái niệm khác\n",
    "\n",
    "- itemset:\n",
    "    + Tập các item được lấy ra từ list_items.\n",
    "    + Ví dụ: ['Butter', 'Bread', 'Milk'] hoặc ['Butter', 'Bread']\n",
    "\n",
    "- k-itemset: \n",
    "    + itemset có kích thước k. \n",
    "    + Ví dụ: ['milk', 'coffee', 'canday'] là 3-itemset\n",
    "    "
   ]
  },
  {
   "cell_type": "markdown",
   "id": "07039819",
   "metadata": {},
   "source": [
    "# 3. Bài toán Khai thác mẫu phổ biển (Frequent itemset mining)\n",
    "\n",
    "- Xét bài toán gồn:\n",
    "    + list_items (ký hiệu I) -- tập hợp tất cả các item trong siêu thị.\n",
    "    + list_transactions -- tập hợp tất cả các transaction trong siêu thị.\n",
    "    + min support s -- giá trị ngưỡng support nhỏ nhất.\n",
    "    \n",
    "- Mục tiêu: tìm tất cả các itemset X có thể có, sao cho relative_support(X) $\\geq$ min_support"
   ]
  },
  {
   "cell_type": "markdown",
   "id": "96380838",
   "metadata": {},
   "source": [
    "## a. Cách tiếp cận để giải bài toán FIM\n",
    "\n",
    "- Cách đơn giản nhất để giải bài toán FIM:\n",
    "    + Gọi I là kích thước của `list_items`.\n",
    "    + Duyệt k: 1, 2, ..., I:\n",
    "        + Tìm tất cả k-itemset có relative support lớn hơn min_support.\n",
    "        \n",
    "- Số lần duyệt của bài toán trên là: $2^I - 1$. Một con số vô cùng lớn và không khả thi trong quá trình tính toán.\n",
    "\n",
    "- Do đó, ta sẽ dùng thuật toán Apriori để giải bài toán FIM."
   ]
  },
  {
   "cell_type": "markdown",
   "id": "7ef0e290",
   "metadata": {},
   "source": [
    "## b. Apriori algorithm\n",
    "\n",
    "- Các bước chính của thuật toán Apriori gồm:\n",
    "    1. Tạo các tập phổ biến 1-itemset ($L_1$)\n",
    "    2. Tạo ra tập ứng viên (gọi là $C_{k+1}$), gồm các (k+1)-itemset từ tập $L_k$.\n",
    "    3. Kiểm tra các ứng viên trong $C_{k+1}$ có là tập phổ biến không. Nếu là phổ biến thì lưu vào $L_{k+1}$.\n",
    "    4. Lặp lại bước 2 cho đến khi không còn ứng viên nào.\n",
    "    \n",
    "    \n",
    "- Trong quá trình trên, bước 1 và bước 4 là các bước đơn giản. Tuy nhiên, bước 2 và bước 3 là các bước phức tạp và mang tính chất quan trọng của thuật toán Apriori. Do đó, ta sẽ phân tích kỹ bước 2 và bước 3."
   ]
  },
  {
   "cell_type": "markdown",
   "id": "87d4bed8",
   "metadata": {},
   "source": [
    "### **Bước 2 (bước tổng hợp - join step):**\n",
    "- Bước này có nhiệm vụ tạo ra tập ứng viên $C_{k+1}$.\n",
    "- $C_{k+1}$ được tạo từ tập $L_k$ bằng phép tính self-join: $C_{k+1} = L_k * L_k$\n",
    "- Hai k-itemset có thể self-join nếu chúng có cùng tiền tố. (k-1 item đầu tiên).\n",
    "    + Ví dụ: ['candy', 'coffee', 'milk'] và ['candy', 'coffee', 'fruit'] sẽ tạo thành [coffee, milk, candy, fruit]\n",
    "    \n",
    "### Ví dụ: \n",
    "\n",
    "- Bước tổng hợp\n",
    "    + $L_3$ = [abc , abd , acd , ace, bcd]\n",
    "    + Bước tổng hợp: $C_4$ = [abcd, acde]\n",
    "    + Vì: abcd = abc * abd, acde = acd * ace\n",
    "   "
   ]
  },
  {
   "cell_type": "markdown",
   "id": "e4d55ae3",
   "metadata": {},
   "source": [
    "- Nhiệm vụ của sinh viên: hoàn thành hàm `Cal_Self_Join(itemset_1, itemset_2)`. \n",
    "- **Lưu ý:** kết quả cần được gọi hàm sorted(), để đảm bảo thứ tự của itemset. "
   ]
  },
  {
   "cell_type": "code",
   "execution_count": 14,
   "id": "90ed5a66",
   "metadata": {},
   "outputs": [],
   "source": [
    "def Cal_Self_Join(itemset_1, itemset_2):\n",
    "    \"\"\"\n",
    "    Function perform self-joining step between itemset_1 and itemset_2\n",
    "    \n",
    "    * Parameter:\n",
    "    itemset_1 -- a 1D python list, indicate the itemset. For example ['candy', 'coffee', 'fruit']\n",
    "    itemset_2 -- a 1D python list, indicate the itemset. For example ['candy', 'coffee', 'milk']\n",
    "    \n",
    "    * Return:\n",
    "    join_itemset -- a 1D python list, indicate the join itemset. For example ['candy', 'coffee', 'fruit', 'milk'].\n",
    "                        In case itemset_1 and itemset_2 can not join. Return []\n",
    "    \"\"\"\n",
    "    \n",
    "    join_itemset = None\n",
    "    \n",
    "    # YOUR CODE HERE\n",
    "    \n",
    "    k1 = len(itemset_1)\n",
    "    k2 = len(itemset_2)\n",
    "    \n",
    "    if k1 - k2 != 0:\n",
    "        return []\n",
    "\n",
    "    i = 0\n",
    "    count = 0\n",
    "    temp = []\n",
    "    while i <= k1 -1:\n",
    "        if i == k1-1:\n",
    "            for a in range(k1):\n",
    "                temp.append(itemset_1[a])\n",
    "            temp.append(itemset_2[k1-1])\n",
    "        elif itemset_1[i] != itemset_2[i]:\n",
    "            return []\n",
    "        i+=1\n",
    "    join_itemset = sorted(temp)\n",
    "#     raise NotImplementedError()\n",
    "    \n",
    "    return sorted(join_itemset)"
   ]
  },
  {
   "cell_type": "code",
   "execution_count": 15,
   "id": "08bbc235",
   "metadata": {},
   "outputs": [],
   "source": [
    "# TEST\n",
    "\n",
    "# ----- Test case 1 -----\n",
    "itemset_1 = ['candy', 'coffee', 'milk']\n",
    "itemset_2 = ['candy', 'coffee', 'fruit']\n",
    "assert Cal_Self_Join(itemset_1, itemset_2) == ['candy', 'coffee', 'fruit', 'milk']\n",
    "\n",
    "# ----- Test case 2 -----\n",
    "itemset_1 = ['candy', 'coffee', 'milk']\n",
    "itemset_2 = ['candy', 'coffee']\n",
    "assert Cal_Self_Join(itemset_1, itemset_2) == []"
   ]
  },
  {
   "cell_type": "markdown",
   "id": "ea414f67",
   "metadata": {},
   "source": [
    "### **Bước 3 (bước cắt tỉa -- prune step):**\n",
    "\n",
    "- Bước này có nhiệm vụ: loại bỏ các ứng viên $C_{k+1}$ và trả về $L_{k+1}$.\n",
    "- Ý tưởng đơn giản: loại bỏ các ứng viên có relative support nhỏ hơn min_sup. Tuy nhiên, các này yêu cầu truy xuất dữ liệu list transaction => Không hiệu quả.\n",
    "\n",
    "- Ta thực hiện cắt tỉa dựa vào hai yếu tố sau:\n",
    "1. Cắt tỉa bởi tính chất của Apriori:\n",
    "    + Nếu ứng viên k-itemset có tập con (k-1) không phải là tập phổ biến. Thì ứng viên k-itemset đó không phải là phổ biến => Loại.\n",
    "    + Tại bước này, ta chỉ cần kiểm tra (k-1) tập con.\n",
    "    \n",
    "    \n",
    "2. Cắt tỉa bởi min_sup:\n",
    "    + Ứng viên nào có relative support nhỏ hơn min_sup thì loại.\n",
    "    \n",
    "### Ví dụ: \n",
    "\n",
    "- Bước tổng hợp\n",
    "    + $L_3$ = [abc , abd , acd , ace, bcd]\n",
    "    + Bước tổng hợp: $C_4$ = [abcd, acde]\n",
    "    + Vì: abcd = abc * abd, acde = acd * ace\n",
    "    \n",
    "- Bước cắt tỉa:\n",
    "    + Cắt tỉa bởi Apriori: acde bị cắt tỉa, do cde không thuộc $L_3$\n",
    "    + Cắt tỉa bởi min_sup: kiểm tra relative support của abcd có lớn hơn min_sup?"
   ]
  },
  {
   "cell_type": "markdown",
   "id": "918c3bf5",
   "metadata": {},
   "source": [
    "- Nhiệm vụ của sinh viên: hoàn thành hàm `Prune_By_Apriori(list_candidate, list_previous_frequent_itemset)` được định nghĩa bên dưới.\n",
    "- **Lưu ý:** mỗi ứng viên (candidate) trong `new_list_candidate`, đều cần được gọi hàm `sorted()` của Python. Và `new_list_candidate` cũng cần được gọi hàm `sorted()` của Python"
   ]
  },
  {
   "cell_type": "code",
   "execution_count": 16,
   "id": "27af2750",
   "metadata": {},
   "outputs": [],
   "source": [
    "def Prune_By_Apriori(list_candidate, list_previous_frequent_itemset):\n",
    "    \"\"\"\n",
    "    Function prune by Apriori \n",
    "    \n",
    "    * Parameter:\n",
    "    list_candidate -- a 2D python list, indicate the C_(k+1)\n",
    "    list_previous_frequent_itemset -- a 2D python list, indicate the L_k\n",
    "    \n",
    "    * Return:\n",
    "    new_list_candidate -- a 2D python list, indicate the C_(k+1) after prune redundant candidate.\n",
    "    \"\"\"\n",
    "    \n",
    "    new_list_candidate = None\n",
    "    \n",
    "    # YOUR CODE HERE\n",
    "    res = []\n",
    "    for row in list_candidate:\n",
    "        temp = []\n",
    "        for element in row:\n",
    "            temp.append(element)\n",
    "        res.append(temp)\n",
    "    i=0\n",
    "    for row in res:\n",
    "        k = len(row)\n",
    "        temp = []\n",
    "        for a in range(1,k):\n",
    "            temp.append(row[a])\n",
    "        check = Find_Itemset_Cover(temp, list_previous_frequent_itemset)\n",
    "        if len(check) == 0:\n",
    "            del(res[i])\n",
    "            break\n",
    "        i+=1\n",
    "        \n",
    "    \n",
    "    new_list_candidate = sorted(res)\n",
    "#     raise NotImplementedError()\n",
    "    \n",
    "    return new_list_candidate"
   ]
  },
  {
   "cell_type": "code",
   "execution_count": 17,
   "id": "b3a21c68",
   "metadata": {},
   "outputs": [],
   "source": [
    "# TEST CASE 1\n",
    "\n",
    "list_candidate = [\n",
    "    ['a', 'b', 'c', 'd'],\n",
    "    ['a', 'c', 'd', 'e']\n",
    "]\n",
    "\n",
    "list_previous_frequent_itemset = [\n",
    "    ['a', 'b', 'c'],\n",
    "    ['a', 'b', 'd'],\n",
    "    ['a', 'c', 'd'],\n",
    "    ['a', 'c', 'e'],\n",
    "    ['b', 'c', 'd']\n",
    "]\n",
    "\n",
    "test_1 = Prune_By_Apriori(list_candidate, list_previous_frequent_itemset)\n",
    "assert test_1 == [['a', 'b', 'c', 'd']]"
   ]
  },
  {
   "cell_type": "code",
   "execution_count": 18,
   "id": "9a784961",
   "metadata": {},
   "outputs": [],
   "source": [
    "# TEST CASE 2\n",
    "\n",
    "list_candidate = [\n",
    "    ['a', 'b', 'c'],\\\n",
    "    ['a', 'b', 'd'],\\\n",
    "    ['a', 'b', 'e'],\\\n",
    "    ['a', 'c', 'd'],\\\n",
    "    ['a', 'c', 'e'],\\\n",
    "    ['a', 'd', 'e'],\\\n",
    "    ['b', 'c', 'e']\n",
    "]\n",
    "\n",
    "list_previous_frequent_itemset = [\n",
    "    ['a', 'b'],\\\n",
    "    ['a', 'c'],\\\n",
    "    ['a', 'd'],\\\n",
    "    ['a', 'e'],\\\n",
    "    ['b', 'c'],\\\n",
    "    ['b', 'e'],\\\n",
    "    ['c', 'd'],\\\n",
    "    ['c', 'e'],\\\n",
    "    ['d', 'e'],\\\n",
    "    ['e', 'f']\n",
    "]\n",
    "\n",
    "test_2 = Prune_By_Apriori(list_candidate, list_previous_frequent_itemset)\n",
    "assert test_2 == [\n",
    "    ['a', 'b', 'c'],\\\n",
    "    ['a', 'b', 'e'],\\\n",
    "    ['a', 'c', 'd'],\\\n",
    "    ['a', 'c', 'e'],\\\n",
    "    ['a', 'd', 'e'],\\\n",
    "    ['b', 'c', 'e']\n",
    "]"
   ]
  },
  {
   "cell_type": "markdown",
   "id": "8c0eac39",
   "metadata": {},
   "source": [
    "## Hoàn chỉnh thuật toán Apriori\n",
    "\n",
    "- Trong phần này, chúng ta sẽ hoàn chỉnh việc cài đặt thuật toán Apriori.\n",
    "- Mục tiêu: tìm các tập phổ biến trong `list_transactions`"
   ]
  },
  {
   "cell_type": "code",
   "execution_count": 19,
   "id": "64d3e4fb",
   "metadata": {},
   "outputs": [],
   "source": [
    "def Frequent_Itemset_Mining_Apriori(list_transactions, list_items, min_sup):\n",
    "    \"\"\"\n",
    "    Function perform  frequent itemset mining by Apriori algorithm\n",
    "    \n",
    "    * Parameter:\n",
    "    list_transactions -- a 2D python list, indicate the list of transactions\n",
    "    list_items -- a 1D python list, indicate all item in database. For example: [coffee, candy, ...]\n",
    "    min_sup -- a float, indicate the minimum support value\n",
    "\n",
    "    * Return:\n",
    "    list_frequent_itemset -- a 2D python list, indicate the list of frequent itemset\n",
    "    \"\"\"\n",
    "    \n",
    "    list_frequent_itemset = None\n",
    "    \n",
    "    # YOUR CODE HERE\n",
    "    res = []\n",
    "    for row in list_items:\n",
    "        is_frequent = Check_Frequent_Itemset([row], list_transactions, min_sup)\n",
    "        if is_frequent == True:\n",
    "            res.append([row])\n",
    "\n",
    "    for i in range(len(res)):\n",
    "        if len(res[i]) == 0:\n",
    "            del(res[i])\n",
    "    \n",
    "    prev_list = res\n",
    "    check = True\n",
    "    while check == True:\n",
    "        new_list = []\n",
    "        for cur_key in range(len(prev_list)-1):\n",
    "            itemset_1 = prev_list[cur_key]\n",
    "            for next_key in range(cur_key+1,len(prev_list)):\n",
    "                itemset_2 = prev_list[next_key]\n",
    "                if len(Cal_Self_Join(itemset_1, itemset_2)) != 0:\n",
    "                    new_list.append(Cal_Self_Join(itemset_1, itemset_2))\n",
    "        \n",
    "\n",
    "        new_list = Prune_By_Apriori(new_list, prev_list)\n",
    "        \n",
    "        if len(new_list) == 0:\n",
    "            check = False\n",
    "            break\n",
    "        \n",
    "        cur_row = 0\n",
    "        while cur_row < len(new_list):\n",
    "            is_frequent = Check_Frequent_Itemset(new_list[cur_row], list_transactions, min_sup)\n",
    "            if is_frequent == False:\n",
    "                del(new_list[cur_row])\n",
    "                cur_row-=1\n",
    "            cur_row +=1\n",
    "        \n",
    "        for row in new_list:\n",
    "            res.append(row)\n",
    "        prev_list = new_list\n",
    "        \n",
    "        if len(new_list) == 0:\n",
    "            check = False\n",
    "            \n",
    "    list_frequent_itemset = res\n",
    "#     raise NotImplementedError()\n",
    "    \n",
    "    return list_frequent_itemset"
   ]
  },
  {
   "cell_type": "code",
   "execution_count": 20,
   "id": "1c4d9795",
   "metadata": {
    "scrolled": false
   },
   "outputs": [],
   "source": [
    "# TEST\n",
    "\n",
    "list_transactions_test = [\n",
    "    ['a', 'b', 'c', 'd', 'e'],\\\n",
    "    ['c', 'd', 'e', 'f', 'g'],\\\n",
    "    ['a', 'b', 'c', 'd'],\\\n",
    "    ['b', 'c', 'd', 'e'],\\\n",
    "    ['a', 'd', 'e', 'f'],\\\n",
    "    ['a', 'b', 'c', 'e'],\\\n",
    "    ['b', 'c', 'e', 'f'],\\\n",
    "    ['a', 'b', 'g'],\\\n",
    "    ['a', 'b', 'c', 'e', 'f'],\\\n",
    "    ['a', 'c', 'd', 'e'],\\\n",
    "]\n",
    "\n",
    "list_items_test = ['a', 'b', 'c', 'd', 'e', 'f', 'g']\n",
    "\n",
    "min_support_test = 0.4\n",
    "\n",
    "list_fim = Frequent_Itemset_Mining_Apriori(list_transactions_test, list_items_test, min_support_test)\n",
    "\n",
    "assert list_fim == [\n",
    "                    ['a'], ['b'], ['c'], ['d'], ['e'], ['f'], \\\n",
    "                    ['a', 'b'], ['a', 'c'], ['a', 'd'], ['a', 'e'], ['b', 'c'], ['b', 'e'], \\\n",
    "                    ['c', 'd'], ['c', 'e'], ['d', 'e'], ['e', 'f'], \\\n",
    "                    ['a', 'b', 'c'], ['a', 'c', 'e'], ['b', 'c', 'e'], ['c', 'd', 'e']\n",
    "                   ]"
   ]
  },
  {
   "cell_type": "markdown",
   "id": "570304ed",
   "metadata": {},
   "source": [
    "## Kiểm tra thuật toán Apirori trên tập dữ liệu siêu thị\n",
    "\n",
    "- Cell bên dưới, chỉ có mục đích kiểm tra giá trị `list_transactions` và `list_items` vẫn chính xác và sẳn sàng cho quá trình khai thác."
   ]
  },
  {
   "cell_type": "code",
   "execution_count": 21,
   "id": "4bbaa1a4",
   "metadata": {},
   "outputs": [],
   "source": [
    "assert len(list_transactions) == 9835\n",
    "\n",
    "assert list_items == sorted(list((set(list_items))))\n",
    "assert len(list_items) == 169"
   ]
  },
  {
   "cell_type": "code",
   "execution_count": 22,
   "id": "19b2d344",
   "metadata": {},
   "outputs": [
    {
     "name": "stdout",
     "output_type": "stream",
     "text": [
      "[['bottled water'], ['other vegetables'], ['rolls/buns'], ['root vegetables'], ['soda'], ['tropical fruit'], ['whole milk'], ['yogurt']]\n"
     ]
    }
   ],
   "source": [
    "# Test on our dataset\n",
    "min_support = 0.1\n",
    "\n",
    "list_fim = Frequent_Itemset_Mining_Apriori(list_transactions, list_items, min_support)\n",
    "\n",
    "print(list_fim)"
   ]
  },
  {
   "cell_type": "code",
   "execution_count": 23,
   "id": "e5975c99",
   "metadata": {},
   "outputs": [
    {
     "name": "stdout",
     "output_type": "stream",
     "text": [
      "[['bottled water'], ['other vegetables'], ['rolls/buns'], ['root vegetables'], ['soda'], ['tropical fruit'], ['whole milk'], ['yogurt']]\n"
     ]
    }
   ],
   "source": [
    "min_support = 0.1\n",
    "\n",
    "list_fim = Frequent_Itemset_Mining_Apriori(list_transactions, list_items, min_support)\n",
    "\n",
    "print(list_fim)"
   ]
  },
  {
   "cell_type": "markdown",
   "id": "8347abfd",
   "metadata": {},
   "source": [
    "### Nhiệm vụ của sinh viên:\n",
    "\n",
    "- Đưa ra hai nhận xét về tập phổ biến.\n",
    "- Sinh viên có thể thay đổi giá trị `min_sup` để quan sát thêm các kết quả."
   ]
  },
  {
   "cell_type": "markdown",
   "id": "4a47eeb4",
   "metadata": {},
   "source": [
    "### Nhận xét\n",
    "- Tập phổ biến chỉ có tập 1-itemset, tức người tiêu dùng thường chỉ mua 1 món hàng và chỉ có 8 món hàng có độ phổ biến từ 10% trở lên\n",
    "- Tập phổ biến chứa tập k-itemset (k>1) có độ phổ biến thấp hơn 10%, những món hàng thường không được mua kèm theo với nhau và nếu có thì độ phổ biến thấp hơn 10%"
   ]
  },
  {
   "cell_type": "markdown",
   "id": "20a97979",
   "metadata": {},
   "source": [
    "### Thay min_sup = 0.04 để quan sát được nhiều hơn"
   ]
  },
  {
   "cell_type": "code",
   "execution_count": 24,
   "id": "aa8a33cd",
   "metadata": {},
   "outputs": [
    {
     "name": "stdout",
     "output_type": "stream",
     "text": [
      "[['beef'], ['bottled beer'], ['bottled water'], ['brown bread'], ['butter'], ['canned beer'], ['chicken'], ['chocolate'], ['citrus fruit'], ['coffee'], ['curd'], ['domestic eggs'], ['frankfurter'], ['frozen vegetables'], ['fruit/vegetable juice'], ['margarine'], ['napkins'], ['newspapers'], ['other vegetables'], ['pastry'], ['pip fruit'], ['pork'], ['rolls/buns'], ['root vegetables'], ['sausage'], ['shopping bags'], ['soda'], ['tropical fruit'], ['whipped/sour cream'], ['white bread'], ['whole milk'], ['yogurt'], ['other vegetables', 'rolls/buns'], ['other vegetables', 'root vegetables'], ['other vegetables', 'whole milk'], ['other vegetables', 'yogurt'], ['rolls/buns', 'whole milk'], ['root vegetables', 'whole milk'], ['soda', 'whole milk'], ['tropical fruit', 'whole milk'], ['whole milk', 'yogurt']]\n"
     ]
    }
   ],
   "source": [
    "min_support = 0.04\n",
    "\n",
    "list_fim = Frequent_Itemset_Mining_Apriori(list_transactions, list_items, min_support)\n",
    "\n",
    "print(list_fim)"
   ]
  }
 ],
 "metadata": {
  "kernelspec": {
   "display_name": "Python 3 (ipykernel)",
   "language": "python",
   "name": "python3"
  },
  "language_info": {
   "codemirror_mode": {
    "name": "ipython",
    "version": 3
   },
   "file_extension": ".py",
   "mimetype": "text/x-python",
   "name": "python",
   "nbconvert_exporter": "python",
   "pygments_lexer": "ipython3",
   "version": "3.9.12"
  }
 },
 "nbformat": 4,
 "nbformat_minor": 5
}
